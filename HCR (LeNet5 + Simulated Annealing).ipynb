{
  "nbformat": 4,
  "nbformat_minor": 0,
  "metadata": {
    "colab": {
      "name": "Handwritten Character Reco using LeNet-5.ipynb",
      "provenance": [],
      "collapsed_sections": [],
      "toc_visible": true
    },
    "kernelspec": {
      "name": "python3",
      "display_name": "Python 3"
    }
  },
  "cells": [
    {
      "cell_type": "markdown",
      "metadata": {
        "id": "oQWqKoJrsaR1",
        "colab_type": "text"
      },
      "source": [
        "### HCR using LeNet"
      ]
    },
    {
      "cell_type": "code",
      "metadata": {
        "id": "VL_ue_VyBRg7",
        "colab_type": "code",
        "colab": {}
      },
      "source": [
        "import numpy as np \n",
        "import pandas as pd\n",
        "from matplotlib.pyplot import imshow\n",
        "import matplotlib.pyplot as plt\n",
        "from PIL import Image"
      ],
      "execution_count": 1,
      "outputs": []
    },
    {
      "cell_type": "code",
      "metadata": {
        "id": "EWaJUCUxCcv4",
        "colab_type": "code",
        "colab": {}
      },
      "source": [
        "from random import randint\n",
        "from google.colab.patches import cv2_imshow"
      ],
      "execution_count": 25,
      "outputs": []
    },
    {
      "cell_type": "code",
      "metadata": {
        "id": "FKXnYq8alcjp",
        "colab_type": "code",
        "colab": {}
      },
      "source": [
        "import tensorflow as tf\n",
        "import keras\n",
        "from keras.models import Model, Sequential\n",
        "from keras.layers import Conv2D, MaxPooling2D, BatchNormalization\n",
        "from keras.layers import Activation, Dropout, Flatten, Dense, Input"
      ],
      "execution_count": 53,
      "outputs": []
    },
    {
      "cell_type": "code",
      "metadata": {
        "id": "FJgSc0r8qI8F",
        "colab_type": "code",
        "colab": {}
      },
      "source": [
        "X_FNAME = \"alphanum-hasy-data-X.npy\"\n",
        "Y_FNAME = \"alphanum-hasy-data-y.npy\"\n",
        "SYMBOL_FNAME = \"symbols.csv\""
      ],
      "execution_count": 4,
      "outputs": []
    },
    {
      "cell_type": "code",
      "metadata": {
        "id": "WoR9Z2yRBWkx",
        "colab_type": "code",
        "colab": {
          "base_uri": "https://localhost:8080/",
          "height": 162
        },
        "outputId": "4b61e7fd-c814-4c00-d4b4-7c37647b53ee"
      },
      "source": [
        "X = np.load(X_FNAME)\n",
        "y = np.load(Y_FNAME)\n",
        "SYMBOLS = pd.read_csv(SYMBOL_FNAME) \n",
        "SYMBOLS = SYMBOLS[[\"symbol_id\", \"latex\"]]\n",
        "\n",
        "print(\"X.shape\", X.shape)\n",
        "print(\"y.shape\", y.shape)\n",
        "print(\"SYMBOLS\")\n",
        "SYMBOLS.head(2)"
      ],
      "execution_count": 5,
      "outputs": [
        {
          "output_type": "stream",
          "text": [
            "X.shape (4658, 32, 32)\n",
            "y.shape (4658,)\n",
            "SYMBOLS\n"
          ],
          "name": "stdout"
        },
        {
          "output_type": "execute_result",
          "data": {
            "text/html": [
              "<div>\n",
              "<style scoped>\n",
              "    .dataframe tbody tr th:only-of-type {\n",
              "        vertical-align: middle;\n",
              "    }\n",
              "\n",
              "    .dataframe tbody tr th {\n",
              "        vertical-align: top;\n",
              "    }\n",
              "\n",
              "    .dataframe thead th {\n",
              "        text-align: right;\n",
              "    }\n",
              "</style>\n",
              "<table border=\"1\" class=\"dataframe\">\n",
              "  <thead>\n",
              "    <tr style=\"text-align: right;\">\n",
              "      <th></th>\n",
              "      <th>symbol_id</th>\n",
              "      <th>latex</th>\n",
              "    </tr>\n",
              "  </thead>\n",
              "  <tbody>\n",
              "    <tr>\n",
              "      <th>0</th>\n",
              "      <td>31</td>\n",
              "      <td>A</td>\n",
              "    </tr>\n",
              "    <tr>\n",
              "      <th>1</th>\n",
              "      <td>32</td>\n",
              "      <td>B</td>\n",
              "    </tr>\n",
              "  </tbody>\n",
              "</table>\n",
              "</div>"
            ],
            "text/plain": [
              "   symbol_id latex\n",
              "0         31     A\n",
              "1         32     B"
            ]
          },
          "metadata": {
            "tags": []
          },
          "execution_count": 5
        }
      ]
    },
    {
      "cell_type": "markdown",
      "metadata": {
        "id": "aIVt0aL1dG1M",
        "colab_type": "text"
      },
      "source": [
        "<h1> Analysing the data"
      ]
    },
    {
      "cell_type": "code",
      "metadata": {
        "id": "ubB1LhWxBuAI",
        "colab_type": "code",
        "colab": {
          "base_uri": "https://localhost:8080/",
          "height": 88
        },
        "outputId": "80252e4c-0d7e-465e-af54-8eeb168884cd"
      },
      "source": [
        "def symbol_id_to_symbol(symbol_id = None):\n",
        "    if symbol_id:\n",
        "        symbol_data = SYMBOLS.loc[SYMBOLS['symbol_id'] == symbol_id]\n",
        "        if not symbol_data.empty:\n",
        "            return str(symbol_data[\"latex\"].values[0])\n",
        "        else:\n",
        "            print(\"This should not have happend, wrong symbol_id = \", symbol_id)\n",
        "            return None\n",
        "    else: \n",
        "        print(\"This should not have happend, no symbol id passed\")\n",
        "        return None        \n",
        "\n",
        "# test some values\n",
        "print(\"21 = \", symbol_id_to_symbol(21))\n",
        "print(\"32 = \", symbol_id_to_symbol(32))\n",
        "print(\"90 = \", symbol_id_to_symbol(90))"
      ],
      "execution_count": 6,
      "outputs": [
        {
          "output_type": "stream",
          "text": [
            "This should not have happend, wrong symbol_id =  21\n",
            "21 =  None\n",
            "32 =  B\n",
            "90 =  a\n"
          ],
          "name": "stdout"
        }
      ]
    },
    {
      "cell_type": "code",
      "metadata": {
        "id": "CKLOHHvMB84q",
        "colab_type": "code",
        "colab": {
          "base_uri": "https://localhost:8080/",
          "height": 557
        },
        "outputId": "282ce0c2-c818-47b3-9a26-c783b4d5a723"
      },
      "source": [
        "f, ax = plt.subplots(2, 3, figsize=(12, 10))\n",
        "ax_x = 0\n",
        "ax_y = 0\n",
        "\n",
        "for i in range(6):\n",
        "    randKey = randint(0, X.shape[0])\n",
        "    ax[ax_x, ax_y].imshow(X[randKey], cmap='gray')\n",
        "    ax[ax_x, ax_y].title.set_text(\"Value : \" + symbol_id_to_symbol(y[randKey]))\n",
        "\n",
        "    # for proper subplots\n",
        "    if ax_x == 1:\n",
        "        ax_x = 0\n",
        "        ax_y = ax_y + 1\n",
        "    else:\n",
        "        ax_x = ax_x + 1"
      ],
      "execution_count": 7,
      "outputs": [
        {
          "output_type": "display_data",
          "data": {
            "image/png": "[encoded data removed]",
            "text/plain": [
              "<Figure size 864x720 with 6 Axes>"
            ]
          },
          "metadata": {
            "tags": [],
            "needs_background": "light"
          }
        }
      ]
    },
    {
      "cell_type": "code",
      "metadata": {
        "id": "Kmo3v0PJCF-1",
        "colab_type": "code",
        "colab": {
          "base_uri": "https://localhost:8080/",
          "height": 200
        },
        "outputId": "03a84881-5260-4d31-bf37-d9472f3e1de8"
      },
      "source": [
        "# print labels vs frequency matrix\n",
        "unique, counts = np.unique(y, return_counts=True)\n",
        "y_info_dict = { \"labels\" : unique, \"counts\": counts }\n",
        "y_info_frame = pd.DataFrame(y_info_dict)\n",
        "\n",
        "y_info_frame[\"labels\"] = y_info_frame[\"labels\"].apply(lambda x: symbol_id_to_symbol(x))\n",
        "y_info_frame.head()"
      ],
      "execution_count": 8,
      "outputs": [
        {
          "output_type": "execute_result",
          "data": {
            "text/html": [
              "<div>\n",
              "<style scoped>\n",
              "    .dataframe tbody tr th:only-of-type {\n",
              "        vertical-align: middle;\n",
              "    }\n",
              "\n",
              "    .dataframe tbody tr th {\n",
              "        vertical-align: top;\n",
              "    }\n",
              "\n",
              "    .dataframe thead th {\n",
              "        text-align: right;\n",
              "    }\n",
              "</style>\n",
              "<table border=\"1\" class=\"dataframe\">\n",
              "  <thead>\n",
              "    <tr style=\"text-align: right;\">\n",
              "      <th></th>\n",
              "      <th>labels</th>\n",
              "      <th>counts</th>\n",
              "    </tr>\n",
              "  </thead>\n",
              "  <tbody>\n",
              "    <tr>\n",
              "      <th>0</th>\n",
              "      <td>A</td>\n",
              "      <td>159</td>\n",
              "    </tr>\n",
              "    <tr>\n",
              "      <th>1</th>\n",
              "      <td>B</td>\n",
              "      <td>61</td>\n",
              "    </tr>\n",
              "    <tr>\n",
              "      <th>2</th>\n",
              "      <td>C</td>\n",
              "      <td>134</td>\n",
              "    </tr>\n",
              "    <tr>\n",
              "      <th>3</th>\n",
              "      <td>D</td>\n",
              "      <td>58</td>\n",
              "    </tr>\n",
              "    <tr>\n",
              "      <th>4</th>\n",
              "      <td>E</td>\n",
              "      <td>54</td>\n",
              "    </tr>\n",
              "  </tbody>\n",
              "</table>\n",
              "</div>"
            ],
            "text/plain": [
              "  labels  counts\n",
              "0      A     159\n",
              "1      B      61\n",
              "2      C     134\n",
              "3      D      58\n",
              "4      E      54"
            ]
          },
          "metadata": {
            "tags": []
          },
          "execution_count": 8
        }
      ]
    },
    {
      "cell_type": "code",
      "metadata": {
        "id": "CZbNKmdJKQCB",
        "colab_type": "code",
        "colab": {
          "base_uri": "https://localhost:8080/",
          "height": 35
        },
        "outputId": "101e23eb-8212-4564-8581-b3d3bb8db63f"
      },
      "source": [
        "y_info_frame.shape"
      ],
      "execution_count": 9,
      "outputs": [
        {
          "output_type": "execute_result",
          "data": {
            "text/plain": [
              "(61, 2)"
            ]
          },
          "metadata": {
            "tags": []
          },
          "execution_count": 9
        }
      ]
    },
    {
      "cell_type": "code",
      "metadata": {
        "id": "xlSfFKx7Cq3-",
        "colab_type": "code",
        "colab": {
          "base_uri": "https://localhost:8080/",
          "height": 1000
        },
        "outputId": "17f76c97-e445-4902-e52a-870e76418430"
      },
      "source": [
        "f, ax = plt.subplots(figsize=(10, 20))\n",
        "my_colors = ['r', 'g', 'b', 'k', 'y', 'm', 'c']\n",
        "y_info_frame[\"counts\"].plot(kind='barh', legend=False, color=my_colors, alpha=0.5)\n",
        "wrap = ax.set_yticklabels(list(y_info_frame[\"labels\"]))\n",
        "\n",
        "rects = ax.patches\n",
        "bar_labels_counts = list(y_info_frame[\"counts\"])\n",
        "\n",
        "for i in range(len(bar_labels_counts)):\n",
        "    label_value = str(bar_labels_counts[i])\n",
        "    ax.text(40, rects[i].get_y(), label_value, ha='center',\n",
        "          va='bottom', size='medium', color=\"black\", fontweight=\"bold\")"
      ],
      "execution_count": 10,
      "outputs": [
        {
          "output_type": "display_data",
          "data": {
            "image/png": "[encoded data removed]",
            "text/plain": [
              "<Figure size 720x1440 with 1 Axes>"
            ]
          },
          "metadata": {
            "tags": [],
            "needs_background": "light"
          }
        }
      ]
    },
    {
      "cell_type": "markdown",
      "metadata": {
        "id": "0Hx4LXGYDx86",
        "colab_type": "text"
      },
      "source": [
        "<h1> Pre processing data </h1>"
      ]
    },
    {
      "cell_type": "code",
      "metadata": {
        "id": "zANAW5DIDuiX",
        "colab_type": "code",
        "colab": {
          "base_uri": "https://localhost:8080/",
          "height": 35
        },
        "outputId": "481f69e2-72d9-43d0-aada-3d1c652a0c85"
      },
      "source": [
        "X.shape ## already in 32*32 shape"
      ],
      "execution_count": 11,
      "outputs": [
        {
          "output_type": "execute_result",
          "data": {
            "text/plain": [
              "(4658, 32, 32)"
            ]
          },
          "metadata": {
            "tags": []
          },
          "execution_count": 11
        }
      ]
    },
    {
      "cell_type": "code",
      "metadata": {
        "id": "rak1T0nPD7wO",
        "colab_type": "code",
        "colab": {
          "base_uri": "https://localhost:8080/",
          "height": 49
        },
        "outputId": "2a110286-b40f-491e-9141-11f15e54ad2c"
      },
      "source": [
        "cv2_imshow(X[0])"
      ],
      "execution_count": 26,
      "outputs": [
        {
          "output_type": "display_data",
          "data": {
            "image/png": "[encoded data removed]",
            "text/plain": [
              "<PIL.Image.Image image mode=L size=32x32 at 0x7F6170168E80>"
            ]
          },
          "metadata": {
            "tags": []
          }
        }
      ]
    },
    {
      "cell_type": "code",
      "metadata": {
        "id": "c9itfC9hlEJA",
        "colab_type": "code",
        "colab": {
          "base_uri": "https://localhost:8080/",
          "height": 106
        },
        "outputId": "380b0b32-2556-420b-8ca2-b16f90558404"
      },
      "source": [
        "np.unique(y)"
      ],
      "execution_count": 13,
      "outputs": [
        {
          "output_type": "execute_result",
          "data": {
            "text/plain": [
              "array([ 31,  32,  33,  34,  35,  36,  37,  38,  39,  40,  41,  42,  43,\n",
              "        44,  45,  46,  47,  48,  49,  50,  51,  52,  53,  54,  55,  56,\n",
              "        70,  71,  72,  73,  74,  75,  76,  77,  78,  79,  90,  91,  92,\n",
              "        93,  94,  95,  96,  97,  98,  99, 100, 101, 102, 103, 104, 105,\n",
              "       106, 107, 108, 110, 111, 112, 113, 114, 115])"
            ]
          },
          "metadata": {
            "tags": []
          },
          "execution_count": 13
        }
      ]
    },
    {
      "cell_type": "code",
      "metadata": {
        "id": "OdMjpP7wldiR",
        "colab_type": "code",
        "colab": {}
      },
      "source": [
        "y_new = []\n",
        "for val in y:\n",
        "  if val >=31 and val <=56:\n",
        "    val = val-31\n",
        "    y_new.append(val)\n",
        "  elif val >=70 and val <=79:\n",
        "    val = val-44\n",
        "    y_new.append(val)\n",
        "  else:\n",
        "    val = val-54 \n",
        "    y_new.append(val)"
      ],
      "execution_count": 14,
      "outputs": []
    },
    {
      "cell_type": "code",
      "metadata": {
        "id": "f7_kddOAlA8O",
        "colab_type": "code",
        "colab": {}
      },
      "source": [
        "y_n = np.array(y_new)"
      ],
      "execution_count": 15,
      "outputs": []
    },
    {
      "cell_type": "code",
      "metadata": {
        "id": "D8GmgFbCm5Ev",
        "colab_type": "code",
        "colab": {
          "base_uri": "https://localhost:8080/",
          "height": 35
        },
        "outputId": "47ccdcb2-fb20-41d3-dca4-5dfd9b978669"
      },
      "source": [
        "y_n.shape"
      ],
      "execution_count": 16,
      "outputs": [
        {
          "output_type": "execute_result",
          "data": {
            "text/plain": [
              "(4658,)"
            ]
          },
          "metadata": {
            "tags": []
          },
          "execution_count": 16
        }
      ]
    },
    {
      "cell_type": "code",
      "metadata": {
        "id": "t5DxJcz8MfhW",
        "colab_type": "code",
        "colab": {
          "base_uri": "https://localhost:8080/",
          "height": 88
        },
        "outputId": "b4d8ddd8-226a-467b-998b-605a6a0c8b92"
      },
      "source": [
        "from tensorflow.keras.utils import to_categorical\n",
        "y_onehot = to_categorical(y_n, num_classes=62)\n",
        "\n",
        "print(\"Shape of y:\", y_onehot.shape)\n",
        "print(\"One value of y:\", y_onehot[0])"
      ],
      "execution_count": 17,
      "outputs": [
        {
          "output_type": "stream",
          "text": [
            "Shape of y: (4658, 62)\n",
            "One value of y: [1. 0. 0. 0. 0. 0. 0. 0. 0. 0. 0. 0. 0. 0. 0. 0. 0. 0. 0. 0. 0. 0. 0. 0.\n",
            " 0. 0. 0. 0. 0. 0. 0. 0. 0. 0. 0. 0. 0. 0. 0. 0. 0. 0. 0. 0. 0. 0. 0. 0.\n",
            " 0. 0. 0. 0. 0. 0. 0. 0. 0. 0. 0. 0. 0. 0.]\n"
          ],
          "name": "stdout"
        }
      ]
    },
    {
      "cell_type": "code",
      "metadata": {
        "id": "T92Ts9HvCtim",
        "colab_type": "code",
        "colab": {
          "base_uri": "https://localhost:8080/",
          "height": 88
        },
        "outputId": "e904d505-3c76-4487-b241-79c77d95d4c9"
      },
      "source": [
        "from sklearn.model_selection import train_test_split\n",
        "\n",
        "X_train, X_test, y_train, y_test = train_test_split(X, y_onehot, test_size=0.2)\n",
        "\n",
        "print(\"Train dataset shape\")\n",
        "print(X_train.shape, y_train.shape)\n",
        "print(\"Test dataset shape\")\n",
        "print(X_test.shape, y_test.shape)"
      ],
      "execution_count": 18,
      "outputs": [
        {
          "output_type": "stream",
          "text": [
            "Train dataset shape\n",
            "(3726, 32, 32) (3726, 62)\n",
            "Test dataset shape\n",
            "(932, 32, 32) (932, 62)\n"
          ],
          "name": "stdout"
        }
      ]
    },
    {
      "cell_type": "code",
      "metadata": {
        "id": "CWgQpyGkQ6hR",
        "colab_type": "code",
        "colab": {}
      },
      "source": [
        "X_train = X_train.reshape(X_train.shape[0], 32, 32, 1) #grayscale\n",
        "X_test = X_test.reshape(X_test.shape[0], 32, 32, 1)"
      ],
      "execution_count": 19,
      "outputs": []
    },
    {
      "cell_type": "code",
      "metadata": {
        "id": "T7wN3KCTXgck",
        "colab_type": "code",
        "colab": {}
      },
      "source": [
        "# normalize data\n",
        "X_train = X_train / 255.0\n",
        "X_test = X_test / 255.0"
      ],
      "execution_count": 20,
      "outputs": []
    },
    {
      "cell_type": "markdown",
      "metadata": {
        "id": "4BtyoD5Nde2X",
        "colab_type": "text"
      },
      "source": [
        "<h1> LeNet model </h1>"
      ]
    },
    {
      "cell_type": "code",
      "metadata": {
        "id": "KzUv9JUoVxtQ",
        "colab_type": "code",
        "colab": {}
      },
      "source": [
        "np.random.seed(0)"
      ],
      "execution_count": 21,
      "outputs": []
    },
    {
      "cell_type": "code",
      "metadata": {
        "id": "ZthVgcFJDryi",
        "colab_type": "code",
        "colab": {}
      },
      "source": [
        "model = Sequential()\n",
        "model.add(Conv2D(filters=6, kernel_size=(5, 5), activation='relu', input_shape=(32,32,1)))\n",
        "model.add(MaxPooling2D(pool_size=(2, 2), strides=2))\n",
        "model.add(BatchNormalization())\n",
        "model.add(Conv2D(filters=16, kernel_size=(5, 5), activation='relu'))\n",
        "model.add(MaxPooling2D(pool_size=(2, 2), strides=1))\n",
        "model.add(BatchNormalization())\n",
        "model.add(Flatten())\n",
        "model.add(Dense(units=120, activation='relu'))\n",
        "model.add(Dense(units=84, activation='relu'))\n",
        "model.add(Dense(units=62, activation = 'softmax'))"
      ],
      "execution_count": 54,
      "outputs": []
    },
    {
      "cell_type": "code",
      "metadata": {
        "id": "8NDUwJw0DOYY",
        "colab_type": "code",
        "colab": {
          "base_uri": "https://localhost:8080/",
          "height": 515
        },
        "outputId": "101bac75-1fd4-4ed0-9c4a-6a64e5043a25"
      },
      "source": [
        "model.summary()"
      ],
      "execution_count": 55,
      "outputs": [
        {
          "output_type": "stream",
          "text": [
            "Model: \"sequential_1\"\n",
            "_________________________________________________________________\n",
            "Layer (type)                 Output Shape              Param #   \n",
            "=================================================================\n",
            "conv2d_2 (Conv2D)            (None, 28, 28, 6)         156       \n",
            "_________________________________________________________________\n",
            "max_pooling2d_2 (MaxPooling2 (None, 14, 14, 6)         0         \n",
            "_________________________________________________________________\n",
            "batch_normalization (BatchNo (None, 14, 14, 6)         24        \n",
            "_________________________________________________________________\n",
            "conv2d_3 (Conv2D)            (None, 10, 10, 16)        2416      \n",
            "_________________________________________________________________\n",
            "max_pooling2d_3 (MaxPooling2 (None, 9, 9, 16)          0         \n",
            "_________________________________________________________________\n",
            "batch_normalization_1 (Batch (None, 9, 9, 16)          64        \n",
            "_________________________________________________________________\n",
            "flatten_1 (Flatten)          (None, 1296)              0         \n",
            "_________________________________________________________________\n",
            "dense_3 (Dense)              (None, 120)               155640    \n",
            "_________________________________________________________________\n",
            "dense_4 (Dense)              (None, 84)                10164     \n",
            "_________________________________________________________________\n",
            "dense_5 (Dense)              (None, 62)                5270      \n",
            "=================================================================\n",
            "Total params: 173,734\n",
            "Trainable params: 173,690\n",
            "Non-trainable params: 44\n",
            "_________________________________________________________________\n"
          ],
          "name": "stdout"
        }
      ]
    },
    {
      "cell_type": "markdown",
      "metadata": {
        "id": "04_BGjV421ZL",
        "colab_type": "text"
      },
      "source": [
        "# Meta-heuristic optimization"
      ]
    },
    {
      "cell_type": "code",
      "metadata": {
        "id": "vEZ5a1Ww203s",
        "colab_type": "code",
        "colab": {}
      },
      "source": [
        "def simulated_annealing(ypred, y):\n",
        "  cost = 0.5*tf.math.pow(tf.reduce_mean(tf.square(tf.subtract(ypred,y))), 0.5)\n",
        "  return cost"
      ],
      "execution_count": 56,
      "outputs": []
    },
    {
      "cell_type": "code",
      "metadata": {
        "id": "ao5x5MTbLJcr",
        "colab_type": "code",
        "colab": {}
      },
      "source": [
        "model.compile(loss= simulated_annealing, metrics=[\"accuracy\"], optimizer=\"adam\")"
      ],
      "execution_count": 57,
      "outputs": []
    },
    {
      "cell_type": "code",
      "metadata": {
        "id": "1VXwKCugLort",
        "colab_type": "code",
        "colab": {
          "base_uri": "https://localhost:8080/",
          "height": 728
        },
        "outputId": "a4bffbc9-8278-4de1-e2c5-b764ba49ca08"
      },
      "source": [
        "history = model.fit(x = X_train, y = y_train, batch_size = 32, epochs = 20)"
      ],
      "execution_count": 58,
      "outputs": [
        {
          "output_type": "stream",
          "text": [
            "Epoch 1/20\n",
            "117/117 [==============================] - 3s 30ms/step - loss: 0.0574 - accuracy: 0.3070\n",
            "Epoch 2/20\n",
            "117/117 [==============================] - 4s 31ms/step - loss: 0.0469 - accuracy: 0.5880\n",
            "Epoch 3/20\n",
            "117/117 [==============================] - 4s 30ms/step - loss: 0.0406 - accuracy: 0.7053\n",
            "Epoch 4/20\n",
            "117/117 [==============================] - 4s 30ms/step - loss: 0.0354 - accuracy: 0.7746\n",
            "Epoch 5/20\n",
            "117/117 [==============================] - 3s 30ms/step - loss: 0.0318 - accuracy: 0.8231\n",
            "Epoch 6/20\n",
            "117/117 [==============================] - 3s 29ms/step - loss: 0.0291 - accuracy: 0.8502\n",
            "Epoch 7/20\n",
            "117/117 [==============================] - 3s 29ms/step - loss: 0.0270 - accuracy: 0.8725\n",
            "Epoch 8/20\n",
            "117/117 [==============================] - 3s 29ms/step - loss: 0.0249 - accuracy: 0.8900\n",
            "Epoch 9/20\n",
            "117/117 [==============================] - 3s 30ms/step - loss: 0.0229 - accuracy: 0.9037\n",
            "Epoch 10/20\n",
            "117/117 [==============================] - 3s 29ms/step - loss: 0.0224 - accuracy: 0.9079\n",
            "Epoch 11/20\n",
            "117/117 [==============================] - 3s 29ms/step - loss: 0.0207 - accuracy: 0.9219\n",
            "Epoch 12/20\n",
            "117/117 [==============================] - 3s 29ms/step - loss: 0.0198 - accuracy: 0.9297\n",
            "Epoch 13/20\n",
            "117/117 [==============================] - 4s 30ms/step - loss: 0.0189 - accuracy: 0.9353\n",
            "Epoch 14/20\n",
            "117/117 [==============================] - 3s 29ms/step - loss: 0.0180 - accuracy: 0.9377\n",
            "Epoch 15/20\n",
            "117/117 [==============================] - 3s 29ms/step - loss: 0.0161 - accuracy: 0.9477\n",
            "Epoch 16/20\n",
            "117/117 [==============================] - 4s 30ms/step - loss: 0.0170 - accuracy: 0.9471\n",
            "Epoch 17/20\n",
            "117/117 [==============================] - 4s 32ms/step - loss: 0.0157 - accuracy: 0.9549\n",
            "Epoch 18/20\n",
            "117/117 [==============================] - 4s 31ms/step - loss: 0.0142 - accuracy: 0.9589\n",
            "Epoch 19/20\n",
            "117/117 [==============================] - 4s 31ms/step - loss: 0.0149 - accuracy: 0.9533\n",
            "Epoch 20/20\n",
            "117/117 [==============================] - 4s 31ms/step - loss: 0.0154 - accuracy: 0.9549\n"
          ],
          "name": "stdout"
        }
      ]
    },
    {
      "cell_type": "code",
      "metadata": {
        "id": "EXyZo608ZhbI",
        "colab_type": "code",
        "colab": {
          "base_uri": "https://localhost:8080/",
          "height": 295
        },
        "outputId": "36d6ea53-0251-4742-f0f6-3d030402b22d"
      },
      "source": [
        "plt.plot(history.history['loss'])\n",
        "plt.title('model loss')\n",
        "plt.ylabel('loss')\n",
        "plt.xlabel('epoch')\n",
        "plt.legend(['train'], loc='upper right')\n",
        "plt.show()"
      ],
      "execution_count": 59,
      "outputs": [
        {
          "output_type": "display_data",
          "data": {
            "image/png": "[encoded data removed]",
            "text/plain": [
              "<Figure size 432x288 with 1 Axes>"
            ]
          },
          "metadata": {
            "tags": [],
            "needs_background": "light"
          }
        }
      ]
    },
    {
      "cell_type": "code",
      "metadata": {
        "id": "QBSvm5Z-Y1U7",
        "colab_type": "code",
        "colab": {
          "base_uri": "https://localhost:8080/",
          "height": 295
        },
        "outputId": "e555ebd8-5f18-4de8-9cef-651b2082a9d7"
      },
      "source": [
        "plt.plot(history.history['accuracy'])\n",
        "plt.title('model accuracy')\n",
        "plt.ylabel('accuracy')\n",
        "plt.xlabel('epoch')\n",
        "plt.legend(['train'], loc='upper left')\n",
        "plt.show()"
      ],
      "execution_count": 60,
      "outputs": [
        {
          "output_type": "display_data",
          "data": {
            "image/png": "[encoded data removed]",
            "text/plain": [
              "<Figure size 432x288 with 1 Axes>"
            ]
          },
          "metadata": {
            "tags": [],
            "needs_background": "light"
          }
        }
      ]
    },
    {
      "cell_type": "code",
      "metadata": {
        "id": "etUj89QpQtDJ",
        "colab_type": "code",
        "colab": {
          "base_uri": "https://localhost:8080/",
          "height": 52
        },
        "outputId": "8327a038-44f0-433f-9a8f-030ffebd15de"
      },
      "source": [
        "model.evaluate(X_test, y_test)"
      ],
      "execution_count": 61,
      "outputs": [
        {
          "output_type": "stream",
          "text": [
            "30/30 [==============================] - 0s 12ms/step - loss: 0.0456 - accuracy: 0.6792\n"
          ],
          "name": "stdout"
        },
        {
          "output_type": "execute_result",
          "data": {
            "text/plain": [
              "[0.045625027269124985, 0.6791845560073853]"
            ]
          },
          "metadata": {
            "tags": []
          },
          "execution_count": 61
        }
      ]
    },
    {
      "cell_type": "markdown",
      "metadata": {
        "id": "qnGQnuE9bfvl",
        "colab_type": "text"
      },
      "source": [
        "### Adding a dropout layer"
      ]
    },
    {
      "cell_type": "code",
      "metadata": {
        "id": "GRksH6G1WvK8",
        "colab_type": "code",
        "colab": {}
      },
      "source": [
        "model_dropout = Sequential()\n",
        "model_dropout.add(Conv2D(filters=6, kernel_size=(5, 5), activation='relu', input_shape=(32,32,1)))\n",
        "model_dropout.add(MaxPooling2D(pool_size=(2, 2), strides=2))\n",
        "model_dropout.add(Conv2D(filters=16, kernel_size=(5, 5), activation='relu'))\n",
        "model_dropout.add(MaxPooling2D(pool_size=(2, 2), strides=1))\n",
        "model_dropout.add(Dropout(rate=0.2))\n",
        "model_dropout.add(Flatten())\n",
        "model_dropout.add(Dense(units=120, activation='relu'))\n",
        "model_dropout.add(Dense(units=84, activation='relu'))\n",
        "model_dropout.add(Dense(units=62, activation = 'softmax'))"
      ],
      "execution_count": null,
      "outputs": []
    },
    {
      "cell_type": "code",
      "metadata": {
        "id": "iE7w5m90ay87",
        "colab_type": "code",
        "colab": {}
      },
      "source": [
        "model_dropout.compile(loss=\"categorical_crossentropy\", metrics=[\"accuracy\"], optimizer=\"adam\")"
      ],
      "execution_count": null,
      "outputs": []
    },
    {
      "cell_type": "code",
      "metadata": {
        "id": "wVH38IuFa9eC",
        "colab_type": "code",
        "colab": {
          "base_uri": "https://localhost:8080/",
          "height": 537
        },
        "outputId": "59438f15-e6fd-4cc7-96d1-d44ac3a85e57"
      },
      "source": [
        "history = model_dropout.fit(x = X_train, y = y_train, batch_size = 32, epochs = 15)"
      ],
      "execution_count": null,
      "outputs": [
        {
          "output_type": "stream",
          "text": [
            "Epoch 1/15\n",
            "117/117 [==============================] - 3s 24ms/step - loss: 3.3934 - accuracy: 0.1785\n",
            "Epoch 2/15\n",
            "117/117 [==============================] - 3s 24ms/step - loss: 1.8279 - accuracy: 0.4748\n",
            "Epoch 3/15\n",
            "117/117 [==============================] - 3s 23ms/step - loss: 1.3016 - accuracy: 0.5947\n",
            "Epoch 4/15\n",
            "117/117 [==============================] - 3s 23ms/step - loss: 1.0334 - accuracy: 0.6669\n",
            "Epoch 5/15\n",
            "117/117 [==============================] - 3s 23ms/step - loss: 0.8835 - accuracy: 0.7056\n",
            "Epoch 6/15\n",
            "117/117 [==============================] - 3s 23ms/step - loss: 0.7620 - accuracy: 0.7354\n",
            "Epoch 7/15\n",
            "117/117 [==============================] - 3s 23ms/step - loss: 0.6660 - accuracy: 0.7622\n",
            "Epoch 8/15\n",
            "117/117 [==============================] - 3s 23ms/step - loss: 0.5944 - accuracy: 0.7856\n",
            "Epoch 9/15\n",
            "117/117 [==============================] - 3s 23ms/step - loss: 0.5232 - accuracy: 0.8097\n",
            "Epoch 10/15\n",
            "117/117 [==============================] - 3s 23ms/step - loss: 0.4768 - accuracy: 0.8290\n",
            "Epoch 11/15\n",
            "117/117 [==============================] - 3s 23ms/step - loss: 0.4350 - accuracy: 0.8336\n",
            "Epoch 12/15\n",
            "117/117 [==============================] - 3s 23ms/step - loss: 0.4079 - accuracy: 0.8476\n",
            "Epoch 13/15\n",
            "117/117 [==============================] - 3s 23ms/step - loss: 0.3719 - accuracy: 0.8607\n",
            "Epoch 14/15\n",
            "117/117 [==============================] - 3s 23ms/step - loss: 0.3569 - accuracy: 0.8680\n",
            "Epoch 15/15\n",
            "117/117 [==============================] - 3s 23ms/step - loss: 0.3066 - accuracy: 0.8833\n"
          ],
          "name": "stdout"
        }
      ]
    },
    {
      "cell_type": "code",
      "metadata": {
        "id": "1MkAgvv2bArz",
        "colab_type": "code",
        "colab": {
          "base_uri": "https://localhost:8080/",
          "height": 295
        },
        "outputId": "829b1210-0120-412d-ce31-a4221b85c642"
      },
      "source": [
        "plt.plot(history.history['loss'])\n",
        "plt.title('model loss')\n",
        "plt.ylabel('loss')\n",
        "plt.xlabel('epoch')\n",
        "plt.legend(['train'], loc='upper right')\n",
        "plt.show()"
      ],
      "execution_count": null,
      "outputs": [
        {
          "output_type": "display_data",
          "data": {
            "image/png": "[encoded data removed]",
            "text/plain": [
              "<Figure size 432x288 with 1 Axes>"
            ]
          },
          "metadata": {
            "tags": [],
            "needs_background": "light"
          }
        }
      ]
    },
    {
      "cell_type": "code",
      "metadata": {
        "id": "pQZIoo2RbSmm",
        "colab_type": "code",
        "colab": {
          "base_uri": "https://localhost:8080/",
          "height": 295
        },
        "outputId": "4ee523f0-0ef1-4627-8670-ae53f0c402d4"
      },
      "source": [
        "plt.plot(history.history['accuracy'])\n",
        "plt.title('model accuracy')\n",
        "plt.ylabel('accuracy')\n",
        "plt.xlabel('epoch')\n",
        "plt.legend(['train'], loc='upper left')\n",
        "plt.show()"
      ],
      "execution_count": null,
      "outputs": [
        {
          "output_type": "display_data",
          "data": {
            "image/png": "[encoded data removed]",
            "text/plain": [
              "<Figure size 432x288 with 1 Axes>"
            ]
          },
          "metadata": {
            "tags": [],
            "needs_background": "light"
          }
        }
      ]
    },
    {
      "cell_type": "code",
      "metadata": {
        "id": "_BaT8-ipbWrM",
        "colab_type": "code",
        "colab": {
          "base_uri": "https://localhost:8080/",
          "height": 52
        },
        "outputId": "bf389177-ed0e-4ebf-96a1-e5c8f8345fcf"
      },
      "source": [
        "model_dropout.evaluate(X_test, y_test) ## accuracy increased"
      ],
      "execution_count": null,
      "outputs": [
        {
          "output_type": "stream",
          "text": [
            "30/30 [==============================] - 0s 10ms/step - loss: 0.9227 - accuracy: 0.7414\n"
          ],
          "name": "stdout"
        },
        {
          "output_type": "execute_result",
          "data": {
            "text/plain": [
              "[0.922670841217041, 0.741416335105896]"
            ]
          },
          "metadata": {
            "tags": []
          },
          "execution_count": 81
        }
      ]
    }
  ]
}